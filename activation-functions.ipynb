{
  "nbformat": 4,
  "nbformat_minor": 0,
  "metadata": {
    "colab": {
      "name": "activation-functions.ipynb",
      "provenance": [],
      "collapsed_sections": [],
      "authorship_tag": "ABX9TyNH047eu/QI44VD+Lsj8cnx",
      "include_colab_link": true
    },
    "kernelspec": {
      "name": "python3",
      "display_name": "Python 3"
    },
    "language_info": {
      "name": "python"
    },
    "gpuClass": "standard"
  },
  "cells": [
    {
      "cell_type": "markdown",
      "metadata": {
        "id": "view-in-github",
        "colab_type": "text"
      },
      "source": [
        "<a href=\"https://colab.research.google.com/github/timthedev07/activation-functions/blob/dev/activation-functions.ipynb\" target=\"_parent\"><img src=\"https://colab.research.google.com/assets/colab-badge.svg\" alt=\"Open In Colab\"/></a>"
      ]
    },
    {
      "cell_type": "markdown",
      "source": [
        "Load libraries."
      ],
      "metadata": {
        "id": "-y_MV2B74ht9"
      }
    },
    {
      "cell_type": "code",
      "source": [
        "from matplotlib import pyplot as plt\n",
        "import math"
      ],
      "metadata": {
        "id": "lw9juxXC4hgq"
      },
      "execution_count": 51,
      "outputs": []
    },
    {
      "cell_type": "markdown",
      "source": [
        "Prepare for Plotting"
      ],
      "metadata": {
        "id": "p5F75FUv4wKu"
      }
    },
    {
      "cell_type": "code",
      "source": [
        "def getXY(xRange: tuple, yFunc, step = 1):\n",
        "    x = []\n",
        "    y = []\n",
        "\n",
        "    i = 0\n",
        "\n",
        "    currX = xRange[0]\n",
        "\n",
        "    while currX < xRange[1]:\n",
        "        currX = xRange[0] + i * step\n",
        "        currY = yFunc(currX)\n",
        "\n",
        "        x.append(currX)\n",
        "        y.append(currY)\n",
        "\n",
        "        i += 1\n",
        "    \n",
        "    return (x, y)\n",
        "\n",
        "DEFAULT_RANGE = (-10, 10)\n",
        "\n",
        "def plotXY(x, y, plotSize = 5):\n",
        "    # Select length of axes and the space between tick labels\n",
        "    yLim = max(y[-1], 5)\n",
        "\n",
        "    xUpLim = max(y[-1], 5)\n",
        "    xLowLim = min(-1 * (y[-1]), -5)\n",
        "    xmin, xmax, ymin, ymax = xLowLim, xUpLim, -1 * (yLim), yLim\n",
        "\n",
        "    # Plot points\n",
        "    fig, ax = plt.subplots(figsize=(plotSize, plotSize))\n",
        "    ax.plot(x, y)\n",
        "\n",
        "    # Set identical scales for both axes\n",
        "    ax.set(xlim=(xmin-1, xmax+1), ylim=(ymin-1, ymax+1), aspect='equal')\n",
        "\n",
        "    # Set bottom and left spines as x and y axes of coordinate system\n",
        "    ax.spines['bottom'].set_position('zero')\n",
        "    ax.spines['left'].set_position('zero')\n",
        "\n",
        "    # Remove top and right spines\n",
        "    ax.spines['top'].set_visible(False)\n",
        "    ax.spines['right'].set_visible(False)\n",
        "\n",
        "    # Create 'x' and 'y' labels placed at the end of the axes\n",
        "    ax.set_xlabel('x', size=14, labelpad=-24, x=1.03)\n",
        "    ax.set_ylabel('y', size=14, labelpad=-21, y=1.02, rotation=0)\n",
        "\n",
        "    # Create custom major ticks to determine position of tick labels\n",
        "    ax.set_xticks([xmin, xmax])\n",
        "    ax.set_yticks([ymin, ymax])\n",
        "\n",
        "    # Draw major and minor grid lines\n",
        "    ax.grid(which='both', color='grey', linewidth=1, linestyle='-', alpha=0.2)\n",
        "\n",
        "    # Draw arrows\n",
        "    arrow_fmt = dict(markersize=4, color='black', clip_on=False)\n",
        "    ax.plot((1), (0), marker='>', transform=ax.get_yaxis_transform(), **arrow_fmt)\n",
        "    ax.plot((0), (1), marker='^', transform=ax.get_xaxis_transform(), **arrow_fmt)\n",
        "\n",
        "    plt.show()\n",
        "\n",
        "def plotRange(fn, range = DEFAULT_RANGE, step = 1):\n",
        "    x, y = getXY(range, fn, step)\n",
        "    plotXY(x, y)\n"
      ],
      "metadata": {
        "id": "dFZ1L_mK4ykG"
      },
      "execution_count": 60,
      "outputs": []
    },
    {
      "cell_type": "markdown",
      "source": [
        "## 1. Identity"
      ],
      "metadata": {
        "id": "j5CW_eLy4O_1"
      }
    },
    {
      "cell_type": "code",
      "execution_count": 61,
      "metadata": {
        "colab": {
          "base_uri": "https://localhost:8080/",
          "height": 322
        },
        "id": "jiDzXthC1j9k",
        "outputId": "948bf673-af4b-4d98-a6e9-08fdebf8f9fc"
      },
      "outputs": [
        {
          "output_type": "display_data",
          "data": {
            "text/plain": [
              "<Figure size 360x360 with 1 Axes>"
            ],
            "image/png": "[encoded data removed]"
          },
          "metadata": {
            "needs_background": "light"
          }
        }
      ],
      "source": [
        "def identity(x):\n",
        "    return x\n",
        "\n",
        "plotRange(identity)"
      ]
    },
    {
      "cell_type": "markdown",
      "source": [
        "## 2. ReLU"
      ],
      "metadata": {
        "id": "aG1zQ2h79dnz"
      }
    },
    {
      "cell_type": "code",
      "source": [
        "def ReLU(x):\n",
        "    return max(0, x)\n",
        "\n",
        "plotRange(ReLU)"
      ],
      "metadata": {
        "colab": {
          "base_uri": "https://localhost:8080/",
          "height": 322
        },
        "id": "SLHKkz519jrF",
        "outputId": "a02e57b9-3d66-446d-85be-b9363b07fe96"
      },
      "execution_count": 62,
      "outputs": [
        {
          "output_type": "display_data",
          "data": {
            "text/plain": [
              "<Figure size 360x360 with 1 Axes>"
            ],
            "image/png": "[encoded data removed]"
          },
          "metadata": {
            "needs_background": "light"
          }
        }
      ]
    },
    {
      "cell_type": "markdown",
      "source": [
        "## 3. Binary Step"
      ],
      "metadata": {
        "id": "-GpYlAqf-Qyb"
      }
    },
    {
      "cell_type": "code",
      "source": [
        "def binaryStep(x):\n",
        "    return 0 if x < 0 else 1\n",
        "\n",
        "plotRange(binaryStep, step = 0.01)"
      ],
      "metadata": {
        "colab": {
          "base_uri": "https://localhost:8080/",
          "height": 322
        },
        "id": "QOxrPpqC-V5n",
        "outputId": "2b9cac9d-fc02-423a-f909-b19a6eab191f"
      },
      "execution_count": 63,
      "outputs": [
        {
          "output_type": "display_data",
          "data": {
            "text/plain": [
              "<Figure size 360x360 with 1 Axes>"
            ],
            "image/png": "[encoded data removed]"
          },
          "metadata": {
            "needs_background": "light"
          }
        }
      ]
    },
    {
      "cell_type": "markdown",
      "source": [
        "## 4. Sigmoid"
      ],
      "metadata": {
        "id": "X2YOMpuGCZvT"
      }
    },
    {
      "cell_type": "code",
      "source": [
        "def sigmoid(x):\n",
        "    return 1 / (1 + math.e**(-x))\n",
        "\n",
        "plotRange(sigmoid, step = 0.01, range=[-5, 5])"
      ],
      "metadata": {
        "colab": {
          "base_uri": "https://localhost:8080/",
          "height": 322
        },
        "id": "7_1k51JSCbqD",
        "outputId": "4ac08b26-d9be-4f56-8665-86df9752251e"
      },
      "execution_count": 64,
      "outputs": [
        {
          "output_type": "display_data",
          "data": {
            "text/plain": [
              "<Figure size 360x360 with 1 Axes>"
            ],
            "image/png": "[encoded data removed]"
          },
          "metadata": {
            "needs_background": "light"
          }
        }
      ]
    },
    {
      "cell_type": "markdown",
      "source": [
        "## 5. Hyperbolic Tangent\n",
        "$$\n",
        "\\tanh \\approx \\frac{e^x - e^{-x}}{e^x + e^{-x}}\n",
        "$$"
      ],
      "metadata": {
        "id": "HhaOwAc4FT53"
      }
    },
    {
      "cell_type": "code",
      "source": [
        "def hyperbolicTangent(x):\n",
        "    return (\n",
        "        math.e**(x) - math.e**(-x)\n",
        "    ) / (\n",
        "        math.e**(x) + math.e**(-x)\n",
        "    )\n",
        "\n",
        "\n",
        "plotRange(hyperbolicTangent, step = 0.001)"
      ],
      "metadata": {
        "colab": {
          "base_uri": "https://localhost:8080/",
          "height": 322
        },
        "id": "cd-8eUr5FY63",
        "outputId": "57c869b0-2c65-489a-8ec0-fa11ead59825"
      },
      "execution_count": 65,
      "outputs": [
        {
          "output_type": "display_data",
          "data": {
            "text/plain": [
              "<Figure size 360x360 with 1 Axes>"
            ],
            "image/png": "[encoded data removed]"
          },
          "metadata": {
            "needs_background": "light"
          }
        }
      ]
    }
  ]
}